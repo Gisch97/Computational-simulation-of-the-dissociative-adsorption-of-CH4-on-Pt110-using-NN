{
 "cells": [
  {
   "cell_type": "code",
   "execution_count": 2,
   "metadata": {},
   "outputs": [
    {
     "name": "stdout",
     "output_type": "stream",
     "text": [
      "Collecting ase\n",
      "  Using cached ase-3.22.1-py3-none-any.whl (2.2 MB)\n",
      "Requirement already satisfied: numpy>=1.15.0 in c:\\users\\guill\\anaconda3\\envs\\enviroment1\\lib\\site-packages (from ase) (1.26.2)\n",
      "Requirement already satisfied: matplotlib>=3.1.0 in c:\\users\\guill\\anaconda3\\envs\\enviroment1\\lib\\site-packages (from ase) (3.7.1)\n",
      "Requirement already satisfied: scipy>=1.1.0 in c:\\users\\guill\\anaconda3\\envs\\enviroment1\\lib\\site-packages (from ase) (1.11.4)\n",
      "Requirement already satisfied: packaging>=20.0 in c:\\users\\guill\\anaconda3\\envs\\enviroment1\\lib\\site-packages (from matplotlib>=3.1.0->ase) (23.0)\n",
      "Requirement already satisfied: pillow>=6.2.0 in c:\\users\\guill\\anaconda3\\envs\\enviroment1\\lib\\site-packages (from matplotlib>=3.1.0->ase) (9.5.0)\n",
      "Requirement already satisfied: python-dateutil>=2.7 in c:\\users\\guill\\anaconda3\\envs\\enviroment1\\lib\\site-packages (from matplotlib>=3.1.0->ase) (2.8.2)\n",
      "Requirement already satisfied: fonttools>=4.22.0 in c:\\users\\guill\\anaconda3\\envs\\enviroment1\\lib\\site-packages (from matplotlib>=3.1.0->ase) (4.40.0)\n",
      "Requirement already satisfied: kiwisolver>=1.0.1 in c:\\users\\guill\\anaconda3\\envs\\enviroment1\\lib\\site-packages (from matplotlib>=3.1.0->ase) (1.4.4)\n",
      "Requirement already satisfied: cycler>=0.10 in c:\\users\\guill\\anaconda3\\envs\\enviroment1\\lib\\site-packages (from matplotlib>=3.1.0->ase) (0.11.0)\n",
      "Requirement already satisfied: contourpy>=1.0.1 in c:\\users\\guill\\anaconda3\\envs\\enviroment1\\lib\\site-packages (from matplotlib>=3.1.0->ase) (1.1.0)\n",
      "Requirement already satisfied: pyparsing>=2.3.1 in c:\\users\\guill\\anaconda3\\envs\\enviroment1\\lib\\site-packages (from matplotlib>=3.1.0->ase) (3.1.0)\n",
      "Requirement already satisfied: six>=1.5 in c:\\users\\guill\\anaconda3\\envs\\enviroment1\\lib\\site-packages (from python-dateutil>=2.7->matplotlib>=3.1.0->ase) (1.16.0)\n",
      "Installing collected packages: ase\n",
      "Successfully installed ase-3.22.1\n"
     ]
    }
   ],
   "source": [
    "!pip install ase"
   ]
  },
  {
   "cell_type": "code",
   "execution_count": 1,
   "metadata": {},
   "outputs": [
    {
     "ename": "ModuleNotFoundError",
     "evalue": "No module named 'ase'",
     "output_type": "error",
     "traceback": [
      "\u001b[1;31m---------------------------------------------------------------------------\u001b[0m",
      "\u001b[1;31mModuleNotFoundError\u001b[0m                       Traceback (most recent call last)",
      "\u001b[1;32mc:\\Users\\guill\\Documents\\Compu\\Tesina\\RESULTADOS\\DB\\analysis_confs_sxf.ipynb Cell 1\u001b[0m line \u001b[0;36m4\n\u001b[0;32m      <a href='vscode-notebook-cell:/c%3A/Users/guill/Documents/Compu/Tesina/RESULTADOS/DB/analysis_confs_sxf.ipynb#W0sZmlsZQ%3D%3D?line=0'>1</a>\u001b[0m \u001b[39mimport\u001b[39;00m \u001b[39mos\u001b[39;00m\n\u001b[0;32m      <a href='vscode-notebook-cell:/c%3A/Users/guill/Documents/Compu/Tesina/RESULTADOS/DB/analysis_confs_sxf.ipynb#W0sZmlsZQ%3D%3D?line=1'>2</a>\u001b[0m \u001b[39mimport\u001b[39;00m \u001b[39mnumpy\u001b[39;00m \u001b[39mas\u001b[39;00m \u001b[39mnp\u001b[39;00m\n\u001b[1;32m----> <a href='vscode-notebook-cell:/c%3A/Users/guill/Documents/Compu/Tesina/RESULTADOS/DB/analysis_confs_sxf.ipynb#W0sZmlsZQ%3D%3D?line=3'>4</a>\u001b[0m \u001b[39mimport\u001b[39;00m \u001b[39mase\u001b[39;00m\n\u001b[0;32m      <a href='vscode-notebook-cell:/c%3A/Users/guill/Documents/Compu/Tesina/RESULTADOS/DB/analysis_confs_sxf.ipynb#W0sZmlsZQ%3D%3D?line=4'>5</a>\u001b[0m \u001b[39mfrom\u001b[39;00m \u001b[39mase\u001b[39;00m\u001b[39m.\u001b[39;00m\u001b[39mio\u001b[39;00m \u001b[39mimport\u001b[39;00m read\n\u001b[0;32m      <a href='vscode-notebook-cell:/c%3A/Users/guill/Documents/Compu/Tesina/RESULTADOS/DB/analysis_confs_sxf.ipynb#W0sZmlsZQ%3D%3D?line=5'>6</a>\u001b[0m \u001b[39mfrom\u001b[39;00m \u001b[39mase\u001b[39;00m\u001b[39m.\u001b[39;00m\u001b[39mgeometry\u001b[39;00m \u001b[39mimport\u001b[39;00m wrap_positions\n",
      "\u001b[1;31mModuleNotFoundError\u001b[0m: No module named 'ase'"
     ]
    }
   ],
   "source": [
    "import os\n",
    "import numpy as np\n",
    "\n",
    "import ase\n",
    "from ase.io import read\n",
    "from ase.geometry import wrap_positions\n",
    "\n",
    "# # Get the list of .xsf files in the current directory\n",
    "# directory = \"../backup/xsf-files/\"\n",
    "# files = os.listdir(directory)\n",
    "\n",
    "# posiciones = []\n",
    "\n",
    "# # Loop over the .xsf files\n",
    "# for i, file in enumerate(files):\n",
    "\n",
    "#     # If the file is a .xsf file\n",
    "#     if file.endswith(\".xsf\"):\n",
    "#         # Load the file\n",
    "#         structure = ase.io.read(directory+file)\n",
    "#         # Set the periodic boundary conditions\n",
    "#         structure.set_pbc([True, True, False])\n",
    "\n",
    "#         # Get the list of atom positions\n",
    "#         positions = structure.get_positions()\n",
    "#         posiciones.append(positions)\n",
    "# repetido = np.full(len(files),False)\n",
    "# #print(repetido)"
   ]
  },
  {
   "cell_type": "code",
   "execution_count": null,
   "metadata": {},
   "outputs": [],
   "source": [
    "confs_E = []\n",
    "confZ = []\n",
    "lineas = open('NN_NICO/00001.xsf', 'r').readlines()\n",
    "confs_E.append(float(lineas[0].split()[-2]))\n",
    "confZ.append(float(lineas[-1].split()[3]))\n",
    "lineas[-1].split()[3]"
   ]
  },
  {
   "cell_type": "code",
   "execution_count": null,
   "metadata": {},
   "outputs": [],
   "source": [
    "import plotly.graph_objects as go\n",
    "\n",
    "fig = go.Figure(go.Carpet(\n",
    "    a = [4, 4, 4, 4.5, 4.5, 4.5, 5, 5, 5, 6, 6, 6],\n",
    "    b = [1, 2, 3, 1, 2, 3, 1, 2, 3, 1, 2, 3],\n",
    "    y = [2, 3.5, 4, 3, 4.5, 5, 5.5, 6.5, 7.5, 8, 8.5, 10],\n",
    "    aaxis = dict(\n",
    "        tickprefix = 'a = ',\n",
    "        ticksuffix = 'm',\n",
    "        smoothing = 1,\n",
    "        minorgridcount = 9,\n",
    "    ),\n",
    "    baxis = dict(\n",
    "        tickprefix = 'b = ',\n",
    "        ticksuffix = 'pa',\n",
    "        smoothing = 1,\n",
    "        minorgridcount = 9,\n",
    "    )\n",
    "))\n",
    "\n",
    "fig.show()"
   ]
  }
 ],
 "metadata": {
  "kernelspec": {
   "display_name": "enviroment1",
   "language": "python",
   "name": "python3"
  },
  "language_info": {
   "codemirror_mode": {
    "name": "ipython",
    "version": 3
   },
   "file_extension": ".py",
   "mimetype": "text/x-python",
   "name": "python",
   "nbconvert_exporter": "python",
   "pygments_lexer": "ipython3",
   "version": "3.10.10"
  }
 },
 "nbformat": 4,
 "nbformat_minor": 2
}
