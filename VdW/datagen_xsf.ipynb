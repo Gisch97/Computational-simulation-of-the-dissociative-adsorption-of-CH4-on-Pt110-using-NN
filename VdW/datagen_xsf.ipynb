{
 "cells": [
  {
   "cell_type": "code",
   "execution_count": 21,
   "metadata": {},
   "outputs": [],
   "source": [
    "import numpy as np\n",
    "import os\n",
    "from shutil import rmtree"
   ]
  },
  {
   "cell_type": "code",
   "execution_count": 22,
   "metadata": {},
   "outputs": [],
   "source": [
    "# ~~~~~~~~~~~~~~~~~~ SET UP BASICS\n",
    "header = \"\"\"# total energy = -155.84630218 eV\n",
    "\n",
    "CRYSTAL\n",
    "PRIMVEC\n",
    "8.04 0.0 0.0\n",
    "0.0 8.527707781 0.0\n",
    "0.0 0.0 31.370277041\n",
    "PRIMCOORD\n",
    "56 1\n",
    "\"\"\""
   ]
  },
  {
   "cell_type": "code",
   "execution_count": 23,
   "metadata": {},
   "outputs": [],
   "source": [
    "\n",
    "translation_tensor = np.zeros((56, 6))\n",
    "translation_tensor[-5:, 2] += -8.\n",
    "\n",
    "hzeros = np.zeros((56, 3))\n",
    "\n",
    "nsteps, dz = 21, .0\n",
    "# nsteps, dz = 2, .0\n",
    "\n",
    "\n",
    "# load source\n",
    "source_folders = [f.name for f in os.scandir('source') if f.is_dir()]\n",
    "\n",
    "# make destination folder\n",
    "dest = 'vdw_ref_dft_xsfs'"
   ]
  },
  {
   "cell_type": "code",
   "execution_count": 24,
   "metadata": {},
   "outputs": [
    {
     "data": {
      "text/plain": [
       "array([-8., -8., -8., -8., -8.])"
      ]
     },
     "execution_count": 24,
     "metadata": {},
     "output_type": "execute_result"
    }
   ],
   "source": [
    "translation_tensor[-5:, 2] #+= -6."
   ]
  },
  {
   "cell_type": "code",
   "execution_count": 25,
   "metadata": {},
   "outputs": [
    {
     "data": {
      "text/plain": [
       "(56, 6)"
      ]
     },
     "execution_count": 25,
     "metadata": {},
     "output_type": "execute_result"
    }
   ],
   "source": [
    "translation_tensor.shape"
   ]
  },
  {
   "cell_type": "code",
   "execution_count": 26,
   "metadata": {},
   "outputs": [],
   "source": [
    "if os.path.exists(dest):\n",
    "    rmtree(dest)\n",
    "os.makedirs(dest)\n",
    "\n",
    "for sf in source_folders:\n",
    "    base_tensor = np.loadtxt(os.path.join('source', sf, 'POSCAR'),\n",
    "                             skiprows=7, usecols=[0, 1, 2])\n",
    "    base_tensor = np.hstack((base_tensor, hzeros))\n",
    "    new_folder = os.path.join(dest, sf)\n",
    "    os.makedirs(new_folder)\n",
    "    for i in range(nsteps):\n",
    "        tensor = i/(nsteps-1)*translation_tensor + base_tensor\n",
    "        with open(os.path.join(new_folder, \"{:03d}.xsf\".format(i)), 'w') as f:\n",
    "            f.write(header)\n",
    "            for j in range(51):\n",
    "                s = ['Pt'] + [\"{:13.10f}\".format(n)\n",
    "                              for n in tensor[j]] + ['\\n']\n",
    "                f.write('\\t'.join(s))\n",
    "            for j in range(51, 55):\n",
    "                s = ['H'] + [\"{:13.10f}\".format(n) for n in tensor[j]] + ['\\n']\n",
    "                f.write('\\t'.join(s))\n",
    "            s = ['C'] + [\"{:13.10f}\".format(n) for n in tensor[-1]] + ['\\n']\n",
    "            f.write('\\t'.join(s))"
   ]
  }
 ],
 "metadata": {
  "kernelspec": {
   "display_name": "enviroment1",
   "language": "python",
   "name": "python3"
  },
  "language_info": {
   "codemirror_mode": {
    "name": "ipython",
    "version": 3
   },
   "file_extension": ".py",
   "mimetype": "text/x-python",
   "name": "python",
   "nbconvert_exporter": "python",
   "pygments_lexer": "ipython3",
   "version": "3.10.10"
  }
 },
 "nbformat": 4,
 "nbformat_minor": 2
}
