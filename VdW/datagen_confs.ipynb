{
 "cells": [
  {
   "cell_type": "code",
   "execution_count": 1,
   "metadata": {},
   "outputs": [],
   "source": [
    "import numpy as np\n",
    "import os"
   ]
  },
  {
   "cell_type": "code",
   "execution_count": 2,
   "metadata": {},
   "outputs": [],
   "source": [
    "with open('SURFACE','r') as f:\n",
    "    SURFACE = f.readlines()\n",
    "surf = np.array([np.fromstring(line, sep='\\t', count=3)\n",
    "                      for line in SURFACE])\n",
    "with open('H1','r') as f:\n",
    "    mol = f.readlines()\n",
    "H1 = np.array([np.fromstring(line, sep='\\t', count=3)\n",
    "                      for line in mol])\n",
    "with open('H2','r') as f:\n",
    "    mol = f.readlines()\n",
    "H2 = np.array([np.fromstring(line, sep='\\t', count=3)\n",
    "                      for line in mol])\n",
    "with open('H3','r') as f:\n",
    "    mol = f.readlines()\n",
    "H3 = np.array([np.fromstring(line, sep='\\t', count=3)\n",
    "                      for line in mol])"
   ]
  },
  {
   "cell_type": "code",
   "execution_count": 3,
   "metadata": {},
   "outputs": [],
   "source": [
    "Valley = surf[39][:2]\n",
    "Facet = surf[45][:2]\n",
    "Ridge = surf[50][:2]"
   ]
  },
  {
   "cell_type": "code",
   "execution_count": 4,
   "metadata": {},
   "outputs": [],
   "source": [
    "z_Valley = surf[39][2]\n",
    "z_Facet = surf[45][2]\n",
    "z_Ridge = surf[50][2]"
   ]
  },
  {
   "cell_type": "code",
   "execution_count": 5,
   "metadata": {},
   "outputs": [
    {
     "name": "stdout",
     "output_type": "stream",
     "text": [
      "Facet : 9.99363 z_Ridge: 11.13482  z_Valley: 8.75599\n"
     ]
    }
   ],
   "source": [
    "print(f'Facet : {z_Facet}', f'z_Ridge: {z_Ridge} ', f'z_Valley: {z_Valley}')"
   ]
  },
  {
   "cell_type": "code",
   "execution_count": 6,
   "metadata": {},
   "outputs": [],
   "source": [
    "def calcular_CM_xy(CH4):\n",
    "    m_H = 1\n",
    "    m_C = 12.011\n",
    "    M = 4 * m_H + m_C\n",
    "    CM = [0,0,0]\n",
    "    CM[0] = (CH4[0][0] + CH4[1][0] + CH4[2][0] + CH4[3][0] + m_C * CH4[4][0]) / M\n",
    "    CM[1] = (CH4[0][1] + CH4[1][1] + CH4[2][1] + CH4[3][1] + m_C * CH4[4][1]) / M\n",
    "    return CM"
   ]
  },
  {
   "cell_type": "code",
   "execution_count": 7,
   "metadata": {},
   "outputs": [
    {
     "name": "stdout",
     "output_type": "stream",
     "text": [
      "[2.00000e-05 5.68517e+00]\n",
      "[6.05984 4.26385]\n",
      "[4.01998 5.68513]\n",
      "[ 1.98025707  4.26328258 20.33408   ]\n"
     ]
    }
   ],
   "source": [
    "print(Valley)\n",
    "print(Facet)\n",
    "print(Ridge)\n",
    "print(H1[4])"
   ]
  },
  {
   "cell_type": "code",
   "execution_count": 8,
   "metadata": {},
   "outputs": [
    {
     "data": {
      "text/plain": [
       "[1.980294146723971, 4.263277915835869, 0]"
      ]
     },
     "execution_count": 8,
     "metadata": {},
     "output_type": "execute_result"
    }
   ],
   "source": [
    "calcular_CM_xy(H1)"
   ]
  },
  {
   "cell_type": "code",
   "execution_count": 9,
   "metadata": {},
   "outputs": [
    {
     "data": {
      "text/plain": [
       "array([[ 1.61934760e-05,  4.65509377e+00,  2.07036260e+01],\n",
       "       [ 4.73364760e-05,  5.68008265e+00,  1.92398076e+01],\n",
       "       [-8.93385914e-01,  6.20276942e+00,  2.06964749e+01],\n",
       "       [ 8.93847683e-01,  6.20267818e+00,  2.06963263e+01],\n",
       "       [-1.70742240e-05,  5.68517466e+00,  2.03340800e+01]])"
      ]
     },
     "execution_count": 9,
     "metadata": {},
     "output_type": "execute_result"
    }
   ],
   "source": [
    "H1_VALLEY = H1[:] - calcular_CM_xy(H1) + [*Valley,0]\n",
    "H1_VALLEY"
   ]
  },
  {
   "cell_type": "code",
   "execution_count": 10,
   "metadata": {},
   "outputs": [],
   "source": [
    "capa = ['Valley', 'Facet', 'Ridge']\n",
    "\n",
    "CH4_1 = {}\n",
    "CH4_2 = {}\n",
    "CH4_3 = {}\n",
    "for name, atom in zip(capa,[Valley, Facet, Ridge]):\n",
    "    CH4_1[name] = H1[:] - calcular_CM_xy(H1) + [*atom,0]\n",
    "    CH4_2[name] = H2[:] - calcular_CM_xy(H2) + [*atom,0]\n",
    "    CH4_3[name] = H3[:] - calcular_CM_xy(H3) + [*atom,0]"
   ]
  },
  {
   "cell_type": "code",
   "execution_count": 11,
   "metadata": {},
   "outputs": [
    {
     "data": {
      "text/plain": [
       "array([[ 1.61934760e-05,  4.65509377e+00,  2.07036260e+01],\n",
       "       [ 4.73364760e-05,  5.68008265e+00,  1.92398076e+01],\n",
       "       [-8.93385914e-01,  6.20276942e+00,  2.06964749e+01],\n",
       "       [ 8.93847683e-01,  6.20267818e+00,  2.06963263e+01],\n",
       "       [-1.70742240e-05,  5.68517466e+00,  2.03340800e+01]])"
      ]
     },
     "execution_count": 11,
     "metadata": {},
     "output_type": "execute_result"
    }
   ],
   "source": [
    "CH4_1['Valley']"
   ]
  },
  {
   "cell_type": "code",
   "execution_count": 12,
   "metadata": {},
   "outputs": [],
   "source": [
    "header = '''1.0\n",
    " +8.0400000000  +0.0000000000  +0.0000000000 \n",
    " +0.0000000000  +8.5277077811  +0.0000000000 \n",
    " +0.0000000000  +0.0000000000 +31.3702770415 \n",
    " 51 4 1\n",
    "Selective\n",
    "Cartesian'''"
   ]
  },
  {
   "cell_type": "code",
   "execution_count": 13,
   "metadata": {},
   "outputs": [
    {
     "name": "stdout",
     "output_type": "stream",
     "text": [
      "File created: source/H1_Valley\\POSCAR\n",
      "File created: source/H2_Valley\\POSCAR\n",
      "File created: source/H3_Valley\\POSCAR\n",
      "File created: source/H1_Facet\\POSCAR\n",
      "File created: source/H2_Facet\\POSCAR\n",
      "File created: source/H3_Facet\\POSCAR\n",
      "File created: source/H1_Ridge\\POSCAR\n",
      "File created: source/H2_Ridge\\POSCAR\n",
      "File created: source/H3_Ridge\\POSCAR\n"
     ]
    }
   ],
   "source": [
    "\n",
    "# Define file versions\n",
    "orientacion = ['H1', 'H2', 'H3']\n",
    "\n",
    "# Create folders for each combination\n",
    "for atom in capa:\n",
    "    for direction, CH4 in zip(orientacion, [CH4_1, CH4_2, CH4_3]):\n",
    "        folder_name = f'source/{direction}_{atom}'\n",
    "        os.makedirs(folder_name, exist_ok=True)\n",
    "\n",
    "        output_file_path = os.path.join(folder_name, f'POSCAR')\n",
    "\n",
    "        # Convert numpy arrays to strings with tabs between columns\n",
    "        surf_str = '\\n'.join('\\t'.join('{:.10f}'.format(value) for value in row) for row in surf)\n",
    "        ch4_str = '\\n'.join('\\t'.join('{:.10f}'.format(value) for value in row) for row in CH4[atom].tolist())\n",
    "\n",
    "        # Combine content and write to the output file\n",
    "        with open(output_file_path, 'w') as output_file:\n",
    "            output_file.write(f'{header}\\n{surf_str}\\n{ch4_str}')\n",
    "\n",
    "        print(f'File created: {output_file_path}')\n"
   ]
  },
  {
   "cell_type": "code",
   "execution_count": null,
   "metadata": {},
   "outputs": [],
   "source": []
  }
 ],
 "metadata": {
  "kernelspec": {
   "display_name": "enviroment1",
   "language": "python",
   "name": "python3"
  },
  "language_info": {
   "codemirror_mode": {
    "name": "ipython",
    "version": 3
   },
   "file_extension": ".py",
   "mimetype": "text/x-python",
   "name": "python",
   "nbconvert_exporter": "python",
   "pygments_lexer": "ipython3",
   "version": "3.10.10"
  }
 },
 "nbformat": 4,
 "nbformat_minor": 2
}
