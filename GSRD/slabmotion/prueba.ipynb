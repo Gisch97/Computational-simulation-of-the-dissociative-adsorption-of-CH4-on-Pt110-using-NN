{
 "cells": [
  {
   "cell_type": "code",
   "execution_count": null,
   "metadata": {},
   "outputs": [],
   "source": [
    "# Importar librerías necesarias\n",
    "import numpy as np\n",
    "\n",
    "def cargar_coordenadas(texto):\n",
    "    lines = texto.strip().split('\\n')\n",
    "    coords = []\n",
    "    skip_lines = True  # Variable para omitir las líneas de encabezado\n",
    "    for line in lines:\n",
    "        if skip_lines:\n",
    "            if line.startswith(\"Fixed slab coords\"):\n",
    "                skip_lines = False\n",
    "            continue\n",
    "        parts = line.split()\n",
    "        if len(parts) < 4:\n",
    "            continue\n",
    "        coords.append([float(parts[0]), float(parts[1]), float(parts[2])])\n",
    "    return np.array(coords)\n",
    "\n",
    "\n",
    "\n",
    "def calcular_diferencia(coordenadas, referencia):\n",
    "    return coordenadas - referencia\n",
    "\n",
    "\n"
   ]
  },
  {
   "cell_type": "code",
   "execution_count": 9,
   "metadata": {},
   "outputs": [
    {
     "ename": "KeyboardInterrupt",
     "evalue": "",
     "output_type": "error",
     "traceback": [
      "\u001b[1;31m---------------------------------------------------------------------------\u001b[0m",
      "\u001b[1;31mKeyboardInterrupt\u001b[0m                         Traceback (most recent call last)",
      "Cell \u001b[1;32mIn[9], line 20\u001b[0m\n\u001b[0;32m     18\u001b[0m     \u001b[39m# Guardar las diferencias en algún formato (puedes elegir entre CSV, Numpy, etc.)\u001b[39;00m\n\u001b[0;32m     19\u001b[0m     nombre_archivo \u001b[39m=\u001b[39m \u001b[39mf\u001b[39m\u001b[39m'\u001b[39m\u001b[39mdiferencia_fotograma_\u001b[39m\u001b[39m{\u001b[39;00mi\u001b[39m \u001b[39m\u001b[39m+\u001b[39m\u001b[39m \u001b[39m\u001b[39m1\u001b[39m\u001b[39m}\u001b[39;00m\u001b[39m.txt\u001b[39m\u001b[39m'\u001b[39m\n\u001b[1;32m---> 20\u001b[0m     np\u001b[39m.\u001b[39;49msavetxt(nombre_archivo, diferencias, fmt\u001b[39m=\u001b[39;49m\u001b[39m'\u001b[39;49m\u001b[39m%.10f\u001b[39;49;00m\u001b[39m'\u001b[39;49m, delimiter\u001b[39m=\u001b[39;49m\u001b[39m'\u001b[39;49m\u001b[39m\\t\u001b[39;49;00m\u001b[39m'\u001b[39;49m)\n\u001b[0;32m     22\u001b[0m \u001b[39mprint\u001b[39m(\u001b[39m\"\u001b[39m\u001b[39mProceso completado.\u001b[39m\u001b[39m\"\u001b[39m)\n",
      "File \u001b[1;32m<__array_function__ internals>:200\u001b[0m, in \u001b[0;36msavetxt\u001b[1;34m(*args, **kwargs)\u001b[0m\n",
      "File \u001b[1;32mc:\\Users\\guill\\anaconda3\\envs\\enviroment1\\lib\\site-packages\\numpy\\lib\\npyio.py:1542\u001b[0m, in \u001b[0;36msavetxt\u001b[1;34m(fname, X, fmt, delimiter, newline, header, footer, comments, encoding)\u001b[0m\n\u001b[0;32m   1539\u001b[0m \u001b[39mif\u001b[39;00m _is_string_like(fname):\n\u001b[0;32m   1540\u001b[0m     \u001b[39m# datasource doesn't support creating a new file ...\u001b[39;00m\n\u001b[0;32m   1541\u001b[0m     \u001b[39mopen\u001b[39m(fname, \u001b[39m'\u001b[39m\u001b[39mwt\u001b[39m\u001b[39m'\u001b[39m)\u001b[39m.\u001b[39mclose()\n\u001b[1;32m-> 1542\u001b[0m     fh \u001b[39m=\u001b[39m np\u001b[39m.\u001b[39;49mlib\u001b[39m.\u001b[39;49m_datasource\u001b[39m.\u001b[39;49mopen(fname, \u001b[39m'\u001b[39;49m\u001b[39mwt\u001b[39;49m\u001b[39m'\u001b[39;49m, encoding\u001b[39m=\u001b[39;49mencoding)\n\u001b[0;32m   1543\u001b[0m     own_fh \u001b[39m=\u001b[39m \u001b[39mTrue\u001b[39;00m\n\u001b[0;32m   1544\u001b[0m \u001b[39melif\u001b[39;00m \u001b[39mhasattr\u001b[39m(fname, \u001b[39m'\u001b[39m\u001b[39mwrite\u001b[39m\u001b[39m'\u001b[39m):\n\u001b[0;32m   1545\u001b[0m     \u001b[39m# wrap to handle byte output streams\u001b[39;00m\n",
      "File \u001b[1;32mc:\\Users\\guill\\anaconda3\\envs\\enviroment1\\lib\\site-packages\\numpy\\lib\\_datasource.py:193\u001b[0m, in \u001b[0;36mopen\u001b[1;34m(path, mode, destpath, encoding, newline)\u001b[0m\n\u001b[0;32m    156\u001b[0m \u001b[39m\u001b[39m\u001b[39m\"\"\"\u001b[39;00m\n\u001b[0;32m    157\u001b[0m \u001b[39mOpen `path` with `mode` and return the file object.\u001b[39;00m\n\u001b[0;32m    158\u001b[0m \n\u001b[1;32m   (...)\u001b[0m\n\u001b[0;32m    189\u001b[0m \n\u001b[0;32m    190\u001b[0m \u001b[39m\"\"\"\u001b[39;00m\n\u001b[0;32m    192\u001b[0m ds \u001b[39m=\u001b[39m DataSource(destpath)\n\u001b[1;32m--> 193\u001b[0m \u001b[39mreturn\u001b[39;00m ds\u001b[39m.\u001b[39;49mopen(path, mode, encoding\u001b[39m=\u001b[39;49mencoding, newline\u001b[39m=\u001b[39;49mnewline)\n",
      "File \u001b[1;32mc:\\Users\\guill\\anaconda3\\envs\\enviroment1\\lib\\site-packages\\numpy\\lib\\_datasource.py:525\u001b[0m, in \u001b[0;36mDataSource.open\u001b[1;34m(self, path, mode, encoding, newline)\u001b[0m\n\u001b[0;32m    522\u001b[0m     \u001b[39mraise\u001b[39;00m \u001b[39mValueError\u001b[39;00m(\u001b[39m\"\u001b[39m\u001b[39mURLs are not writeable\u001b[39m\u001b[39m\"\u001b[39m)\n\u001b[0;32m    524\u001b[0m \u001b[39m# NOTE: _findfile will fail on a new file opened for writing.\u001b[39;00m\n\u001b[1;32m--> 525\u001b[0m found \u001b[39m=\u001b[39m \u001b[39mself\u001b[39;49m\u001b[39m.\u001b[39;49m_findfile(path)\n\u001b[0;32m    526\u001b[0m \u001b[39mif\u001b[39;00m found:\n\u001b[0;32m    527\u001b[0m     _fname, ext \u001b[39m=\u001b[39m \u001b[39mself\u001b[39m\u001b[39m.\u001b[39m_splitzipext(found)\n",
      "File \u001b[1;32mc:\\Users\\guill\\anaconda3\\envs\\enviroment1\\lib\\site-packages\\numpy\\lib\\_datasource.py:369\u001b[0m, in \u001b[0;36mDataSource._findfile\u001b[1;34m(self, path)\u001b[0m\n\u001b[0;32m    366\u001b[0m     filelist \u001b[39m=\u001b[39m filelist \u001b[39m+\u001b[39m \u001b[39mself\u001b[39m\u001b[39m.\u001b[39m_possible_names(path)\n\u001b[0;32m    368\u001b[0m \u001b[39mfor\u001b[39;00m name \u001b[39min\u001b[39;00m filelist:\n\u001b[1;32m--> 369\u001b[0m     \u001b[39mif\u001b[39;00m \u001b[39mself\u001b[39;49m\u001b[39m.\u001b[39;49mexists(name):\n\u001b[0;32m    370\u001b[0m         \u001b[39mif\u001b[39;00m \u001b[39mself\u001b[39m\u001b[39m.\u001b[39m_isurl(name):\n\u001b[0;32m    371\u001b[0m             name \u001b[39m=\u001b[39m \u001b[39mself\u001b[39m\u001b[39m.\u001b[39m_cache(name)\n",
      "File \u001b[1;32mc:\\Users\\guill\\anaconda3\\envs\\enviroment1\\lib\\site-packages\\numpy\\lib\\_datasource.py:463\u001b[0m, in \u001b[0;36mDataSource.exists\u001b[1;34m(self, path)\u001b[0m\n\u001b[0;32m    432\u001b[0m \u001b[39m\u001b[39m\u001b[39m\"\"\"\u001b[39;00m\n\u001b[0;32m    433\u001b[0m \u001b[39mTest if path exists.\u001b[39;00m\n\u001b[0;32m    434\u001b[0m \n\u001b[1;32m   (...)\u001b[0m\n\u001b[0;32m    459\u001b[0m \n\u001b[0;32m    460\u001b[0m \u001b[39m\"\"\"\u001b[39;00m\n\u001b[0;32m    462\u001b[0m \u001b[39m# First test for local path\u001b[39;00m\n\u001b[1;32m--> 463\u001b[0m \u001b[39mif\u001b[39;00m os\u001b[39m.\u001b[39;49mpath\u001b[39m.\u001b[39;49mexists(path):\n\u001b[0;32m    464\u001b[0m     \u001b[39mreturn\u001b[39;00m \u001b[39mTrue\u001b[39;00m\n\u001b[0;32m    466\u001b[0m \u001b[39m# We import this here because importing urllib is slow and\u001b[39;00m\n\u001b[0;32m    467\u001b[0m \u001b[39m# a significant fraction of numpy's total import time.\u001b[39;00m\n",
      "File \u001b[1;32mc:\\Users\\guill\\anaconda3\\envs\\enviroment1\\lib\\genericpath.py:19\u001b[0m, in \u001b[0;36mexists\u001b[1;34m(path)\u001b[0m\n\u001b[0;32m     17\u001b[0m \u001b[39m\u001b[39m\u001b[39m\"\"\"Test whether a path exists.  Returns False for broken symbolic links\"\"\"\u001b[39;00m\n\u001b[0;32m     18\u001b[0m \u001b[39mtry\u001b[39;00m:\n\u001b[1;32m---> 19\u001b[0m     os\u001b[39m.\u001b[39;49mstat(path)\n\u001b[0;32m     20\u001b[0m \u001b[39mexcept\u001b[39;00m (\u001b[39mOSError\u001b[39;00m, \u001b[39mValueError\u001b[39;00m):\n\u001b[0;32m     21\u001b[0m     \u001b[39mreturn\u001b[39;00m \u001b[39mFalse\u001b[39;00m\n",
      "\u001b[1;31mKeyboardInterrupt\u001b[0m: "
     ]
    }
   ],
   "source": [
    "# Cargar el archivo\n",
    "with open('Sample_50K/slabmotion.in', 'r') as archivo:\n",
    "    contenido = archivo.read()\n",
    "\n",
    "# Dividir el contenido en secciones (snapshot y coordenadas)\n",
    "snapshot_secciones = contenido.split('@@')\n",
    "snapshot_secciones = [s.strip() for s in snapshot_secciones if s.strip()]\n",
    "\n",
    "# Cargar las coordenadas de referencia (fixed slab)\n",
    "referencia_seccion = snapshot_secciones[0]\n",
    "referencia_coords = cargar_coordenadas(referencia_seccion)\n",
    "\n",
    "# Procesar las secciones de snapshot y calcular diferencias\n",
    "for i, snapshot_seccion in enumerate(snapshot_secciones[1:]):\n",
    "    snapshot_coords = cargar_coordenadas(snapshot_seccion)\n",
    "    diferencias = calcular_diferencia(snapshot_coords, referencia_coords)\n",
    "\n",
    "    # Guardar las diferencias en algún formato (puedes elegir entre CSV, Numpy, etc.)\n",
    "    nombre_archivo = f'diferencia_fotograma_{i + 1}.txt'\n",
    "    np.savetxt(nombre_archivo, diferencias, fmt='%.10f', delimiter='\\t')\n",
    "\n",
    "print(\"Proceso completado.\")"
   ]
  },
  {
   "cell_type": "code",
   "execution_count": 10,
   "metadata": {},
   "outputs": [],
   "source": [
    "!rm diferencia_fotograma*"
   ]
  }
 ],
 "metadata": {
  "kernelspec": {
   "display_name": "enviroment1",
   "language": "python",
   "name": "python3"
  },
  "language_info": {
   "codemirror_mode": {
    "name": "ipython",
    "version": 3
   },
   "file_extension": ".py",
   "mimetype": "text/x-python",
   "name": "python",
   "nbconvert_exporter": "python",
   "pygments_lexer": "ipython3",
   "version": "3.10.10"
  },
  "orig_nbformat": 4
 },
 "nbformat": 4,
 "nbformat_minor": 2
}
