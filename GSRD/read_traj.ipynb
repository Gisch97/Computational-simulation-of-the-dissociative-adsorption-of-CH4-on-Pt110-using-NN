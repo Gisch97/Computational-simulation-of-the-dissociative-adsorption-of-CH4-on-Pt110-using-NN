{
 "cells": [
  {
   "cell_type": "code",
   "execution_count": 1,
   "metadata": {},
   "outputs": [],
   "source": [
    "import pandas as pd\n",
    "import matplotlib.pyplot as plt\n",
    "import numpy as np\n",
    "import seaborn as sns"
   ]
  },
  {
   "cell_type": "code",
   "execution_count": 3,
   "metadata": {},
   "outputs": [
    {
     "name": "stdout",
     "output_type": "stream",
     "text": [
      "config_admol.xyz\n",
      "config_refl.xyz\n",
      "config_stick.xyz\n",
      "config_sticklate.xyz\n",
      "statistics.out\n",
      "traj_admol.out\n",
      "traj_refl.out\n",
      "traj_stick.out\n",
      "traj_stickearly.out\n",
      "traj_sticklate.out\n",
      "         nint        nrefl       nstick  nstickearly   nsticklate    nstickpat       nadmol       nprobl\n",
      "         1000          781           10            0            3            0          206            0\n"
     ]
    }
   ],
   "source": [
    "!ls Nicolas/Ei0.6\n",
    "!cat Nicolas/Ei0.6/statistics.out"
   ]
  },
  {
   "cell_type": "code",
   "execution_count": 17,
   "metadata": {},
   "outputs": [
    {
     "data": {
      "text/html": [
       "<div>\n",
       "<style scoped>\n",
       "    .dataframe tbody tr th:only-of-type {\n",
       "        vertical-align: middle;\n",
       "    }\n",
       "\n",
       "    .dataframe tbody tr th {\n",
       "        vertical-align: top;\n",
       "    }\n",
       "\n",
       "    .dataframe thead th {\n",
       "        text-align: right;\n",
       "    }\n",
       "</style>\n",
       "<table border=\"1\" class=\"dataframe\">\n",
       "  <thead>\n",
       "    <tr style=\"text-align: right;\">\n",
       "      <th></th>\n",
       "      <th>ncoup</th>\n",
       "      <th>nt</th>\n",
       "      <th>t</th>\n",
       "      <th>nreb</th>\n",
       "      <th>nsubh</th>\n",
       "      <th>ptad</th>\n",
       "      <th>v</th>\n",
       "    </tr>\n",
       "  </thead>\n",
       "  <tbody>\n",
       "    <tr>\n",
       "      <th>0</th>\n",
       "      <td>170</td>\n",
       "      <td>1681</td>\n",
       "      <td>0.3360</td>\n",
       "      <td>2</td>\n",
       "      <td>3</td>\n",
       "      <td>51</td>\n",
       "      <td>1.033065</td>\n",
       "    </tr>\n",
       "    <tr>\n",
       "      <th>1</th>\n",
       "      <td>243</td>\n",
       "      <td>1408</td>\n",
       "      <td>0.2814</td>\n",
       "      <td>1</td>\n",
       "      <td>4</td>\n",
       "      <td>50</td>\n",
       "      <td>1.020659</td>\n",
       "    </tr>\n",
       "    <tr>\n",
       "      <th>2</th>\n",
       "      <td>355</td>\n",
       "      <td>1408</td>\n",
       "      <td>0.2814</td>\n",
       "      <td>1</td>\n",
       "      <td>4</td>\n",
       "      <td>51</td>\n",
       "      <td>1.232889</td>\n",
       "    </tr>\n",
       "    <tr>\n",
       "      <th>3</th>\n",
       "      <td>700</td>\n",
       "      <td>1324</td>\n",
       "      <td>0.2646</td>\n",
       "      <td>0</td>\n",
       "      <td>2</td>\n",
       "      <td>49</td>\n",
       "      <td>1.290559</td>\n",
       "    </tr>\n",
       "    <tr>\n",
       "      <th>4</th>\n",
       "      <td>715</td>\n",
       "      <td>1311</td>\n",
       "      <td>0.2620</td>\n",
       "      <td>0</td>\n",
       "      <td>1</td>\n",
       "      <td>50</td>\n",
       "      <td>0.958696</td>\n",
       "    </tr>\n",
       "    <tr>\n",
       "      <th>5</th>\n",
       "      <td>818</td>\n",
       "      <td>1319</td>\n",
       "      <td>0.2636</td>\n",
       "      <td>0</td>\n",
       "      <td>3</td>\n",
       "      <td>50</td>\n",
       "      <td>1.186891</td>\n",
       "    </tr>\n",
       "    <tr>\n",
       "      <th>6</th>\n",
       "      <td>826</td>\n",
       "      <td>1246</td>\n",
       "      <td>0.2490</td>\n",
       "      <td>0</td>\n",
       "      <td>2</td>\n",
       "      <td>51</td>\n",
       "      <td>0.886302</td>\n",
       "    </tr>\n",
       "    <tr>\n",
       "      <th>7</th>\n",
       "      <td>835</td>\n",
       "      <td>1453</td>\n",
       "      <td>0.2904</td>\n",
       "      <td>1</td>\n",
       "      <td>1</td>\n",
       "      <td>50</td>\n",
       "      <td>1.432330</td>\n",
       "    </tr>\n",
       "    <tr>\n",
       "      <th>8</th>\n",
       "      <td>842</td>\n",
       "      <td>1303</td>\n",
       "      <td>0.2604</td>\n",
       "      <td>0</td>\n",
       "      <td>3</td>\n",
       "      <td>50</td>\n",
       "      <td>0.978360</td>\n",
       "    </tr>\n",
       "    <tr>\n",
       "      <th>9</th>\n",
       "      <td>940</td>\n",
       "      <td>1384</td>\n",
       "      <td>0.2766</td>\n",
       "      <td>1</td>\n",
       "      <td>2</td>\n",
       "      <td>51</td>\n",
       "      <td>1.268609</td>\n",
       "    </tr>\n",
       "  </tbody>\n",
       "</table>\n",
       "</div>"
      ],
      "text/plain": [
       "   ncoup    nt       t  nreb  nsubh  ptad         v\n",
       "0    170  1681  0.3360     2      3    51  1.033065\n",
       "1    243  1408  0.2814     1      4    50  1.020659\n",
       "2    355  1408  0.2814     1      4    51  1.232889\n",
       "3    700  1324  0.2646     0      2    49  1.290559\n",
       "4    715  1311  0.2620     0      1    50  0.958696\n",
       "5    818  1319  0.2636     0      3    50  1.186891\n",
       "6    826  1246  0.2490     0      2    51  0.886302\n",
       "7    835  1453  0.2904     1      1    50  1.432330\n",
       "8    842  1303  0.2604     0      3    50  0.978360\n",
       "9    940  1384  0.2766     1      2    51  1.268609"
      ]
     },
     "execution_count": 17,
     "metadata": {},
     "output_type": "execute_result"
    }
   ],
   "source": [
    "#cols_stick_original = ['ncoup', 'nt', 't*psua', 'nreb', 'nsubh', 'ptad', 'v*evua' ]\n",
    "#cols_admol_original = ['ncoup','nt','t*psua','rmax*angua','v*evua','vint*evua ']\n",
    "#cols_refl_original = ['ncoup','nt','t*psua','nreb','v*evua','tlf*psua']\n",
    "cols_stick = ['ncoup', 'nt', 't', 'nreb', 'nsubh', 'ptad', 'v' ]\n",
    "cols_admol = ['ncoup','nt','t','rmax','v','vint ']\n",
    "cols_refl = ['ncoup','nt','t','nreb','v','tlf']\n",
    "Nico_Ei06_stick = pd.read_csv('Nicolas/Ei0.6/traj_stick.out', delim_whitespace=True, header=None)\n",
    "Nico_Ei06_admol = pd.read_csv('Nicolas/Ei0.6/traj_admol.out', delim_whitespace=True, header=None)\n",
    "Nico_Ei06_refl = pd.read_csv('Nicolas/Ei0.6/traj_refl.out', delim_whitespace=True, header=None)\n",
    "Nico_Ei06_stick.columns = cols_stick\n",
    "Nico_Ei06_admol.columns = cols_admol\n",
    "Nico_Ei06_refl.columns = cols_refl\n",
    "Nico_Ei06_stick"
   ]
  },
  {
   "cell_type": "code",
   "execution_count": 21,
   "metadata": {},
   "outputs": [
    {
     "data": {
      "text/plain": [
       "<Axes: xlabel='t', ylabel='Count'>"
      ]
     },
     "execution_count": 21,
     "metadata": {},
     "output_type": "execute_result"
    },
    {
     "data": {
      "image/png": "[encoded data removed]",
      "text/plain": [
       "<Figure size 640x480 with 1 Axes>"
      ]
     },
     "metadata": {},
     "output_type": "display_data"
    }
   ],
   "source": [
    "sns.histplot(data=Nico_Ei06_refl, x='t', bins=20)"
   ]
  },
  {
   "cell_type": "code",
   "execution_count": null,
   "metadata": {},
   "outputs": [],
   "source": []
  }
 ],
 "metadata": {
  "kernelspec": {
   "display_name": "enviroment1",
   "language": "python",
   "name": "python3"
  },
  "language_info": {
   "codemirror_mode": {
    "name": "ipython",
    "version": 3
   },
   "file_extension": ".py",
   "mimetype": "text/x-python",
   "name": "python",
   "nbconvert_exporter": "python",
   "pygments_lexer": "ipython3",
   "version": "3.10.10"
  },
  "orig_nbformat": 4
 },
 "nbformat": 4,
 "nbformat_minor": 2
}
