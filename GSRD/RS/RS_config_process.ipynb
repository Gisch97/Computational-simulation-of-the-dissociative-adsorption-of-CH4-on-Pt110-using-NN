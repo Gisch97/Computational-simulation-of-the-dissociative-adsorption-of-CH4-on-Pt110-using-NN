{
 "cells": [
  {
   "cell_type": "markdown",
   "metadata": {},
   "source": [
    "# Importado de librerias"
   ]
  },
  {
   "cell_type": "code",
   "execution_count": 6,
   "metadata": {},
   "outputs": [],
   "source": [
    "import os\n",
    "import numpy as np\n",
    "import pandas as pd"
   ]
  },
  {
   "cell_type": "markdown",
   "metadata": {},
   "source": [
    "# Funciones auxiliares"
   ]
  },
  {
   "cell_type": "code",
   "execution_count": 7,
   "metadata": {},
   "outputs": [],
   "source": [
    "def leer_file(file : str):\n",
    "    ''' \n",
    "        file : dirección al archivo a leer (config.xyz).\n",
    "\n",
    "    return\n",
    "        num_traj : cantidad de trayectorias en el archivo\n",
    "        confs : Lista con {num_traj} elementos. Cada elemento es una lista con 57 elementos,\n",
    "                 la primera linea caracteristicas de la conf, y las siguientes 56 la conf propiamente.\n",
    "    '''\n",
    "    confs = []\n",
    "    with open(file) as f:\n",
    "        num_trajs = int(len(f.readlines())/58)\n",
    "\n",
    "    with open(file) as f:\n",
    "        for j in range(num_trajs):    \n",
    "            traj = []\n",
    "            for i in range(58):\n",
    "                traj.append(f.readline())\n",
    "            confs.append(traj)\n",
    "    print(f'Hay {num_trajs} trayectorias leidas del archivo {file}.')\n",
    "    return num_trajs, confs\n",
    "\n",
    "def leer_conf(CONF):\n",
    "    ''' \n",
    "    CONF : Lista con 57 elementos extraida de `leer_file()`.\n",
    "\n",
    "    return\n",
    "        Pt : Diccionario con configuraciones de Pt del 41 a 51\n",
    "        H : Diccionario con configuraciones de H de 1 a 4\n",
    "        C : Configuracion de C\n",
    "        ntraj : Numero de la trayectoria.\n",
    "\n",
    "        Las configuraciones están en listas Python con coordenadas [x,y,z]\n",
    "    '''\n",
    "    Pt = {}\n",
    "    H = {}\n",
    "    ntraj = CONF[1].split()[0]\n",
    "    pt_ref = float(CONF[2].split()[3])\n",
    "    for i in range(31,53):\n",
    "        Pt[str(i-1)] =  leer_componentes(CONF[i])\n",
    "        Pt[str(i-1)][2] = Pt[str(i-1)][2] - pt_ref\n",
    "    H['1'] =    leer_componentes(CONF[53])\n",
    "    H['2'] =    leer_componentes(CONF[54])\n",
    "    H['3'] =    leer_componentes(CONF[55])\n",
    "    H['4'] =    leer_componentes(CONF[56])\n",
    "    C  =    leer_componentes(CONF[57])\n",
    "    return Pt, H, C, ntraj\n",
    "\n",
    "\n",
    "def leer_componentes(atomo : str):\n",
    "    ''' \n",
    "    atomo : Linea de texto proveniente de un archivo config.xyz de donde se extraen las componentes cartesinas a una lista [x,y,z].\n",
    "    '''\n",
    "    return [float(atomo.split()[1]), float(atomo.split()[2]), float(atomo.split()[3])]\n",
    "\n",
    "def ref_leer_componentes(atomo):\n",
    "    '''     \n",
    "    atomo : Linea de texto proveniente de un archivo refstructureFF.out de donde se extraen las componentes cartesinas a una lista [x,y,z].\n",
    "    '''\n",
    "    return  [float(atomo.split()[0]), float(atomo.split()[1]), float(atomo.split()[2])]\n",
    "\n",
    "def calcular_CM(C, H):\n",
    "    m_H = 1\n",
    "    m_C = 12.011\n",
    "    M = 4 * m_H + m_C\n",
    "    CMx = (H['1'][0] + H['2'][0] + H['3'][0] + H['4'][0] + m_C * C[0]) / M\n",
    "    CMy = (H['1'][1] + H['2'][1] + H['3'][1] + H['4'][1] + m_C * C[1]) / M\n",
    "    CMz = (H['1'][2] + H['2'][2] + H['3'][2] + H['4'][2] + m_C * C[2]) / M\n",
    "    return [CMx, CMy, CMz]\n"
   ]
  },
  {
   "cell_type": "markdown",
   "metadata": {},
   "source": [
    "# Lectura de datos"
   ]
  },
  {
   "cell_type": "markdown",
   "metadata": {},
   "source": [
    "## Estructura de Referencia"
   ]
  },
  {
   "cell_type": "code",
   "execution_count": 8,
   "metadata": {},
   "outputs": [],
   "source": [
    "Pt_ref = {}\n",
    "with open('data/refstructureFF.out') as f:\n",
    "            ref = f.readlines()\n",
    "\n",
    "for i in range(3,54):\n",
    "    Pt_ref[str(i-2)] =  ref_leer_componentes(ref[i])"
   ]
  },
  {
   "cell_type": "markdown",
   "metadata": {},
   "source": [
    "# Automatización de generación de archivos"
   ]
  },
  {
   "cell_type": "code",
   "execution_count": 34,
   "metadata": {},
   "outputs": [],
   "source": [
    "path0 = 'data/0/1-concat/'\n",
    "energias =  ['Ei0.4_outputs/','Ei0.6_outputs/','Ei0.8_outputs/','Ei1.0_outputs/','Ei1.2_outputs/','Ei1.4_outputs/']\n",
    "\n",
    "conf_files = ['config_admol.xyz',\n",
    "'config_refl.xyz',\n",
    "'config_stick.xyz',\n",
    "'config_stickearly.xyz',\n",
    "'config_sticklate.xyz']\n"
   ]
  },
  {
   "cell_type": "code",
   "execution_count": 35,
   "metadata": {},
   "outputs": [
    {
     "name": "stdout",
     "output_type": "stream",
     "text": [
      "0.4\n",
      "0.6\n",
      "0.8\n",
      "1.0\n",
      "1.2\n",
      "1.4\n"
     ]
    }
   ],
   "source": [
    "for ener in energias:\n",
    "   file = path0 + ener\n",
    "   print(file[18:21])"
   ]
  },
  {
   "cell_type": "code",
   "execution_count": 37,
   "metadata": {},
   "outputs": [
    {
     "data": {
      "text/plain": [
       "'1.4'"
      ]
     },
     "execution_count": 37,
     "metadata": {},
     "output_type": "execute_result"
    }
   ],
   "source": [
    "file[18:21]"
   ]
  },
  {
   "cell_type": "code",
   "execution_count": 46,
   "metadata": {},
   "outputs": [],
   "source": [
    "def write_all(path,file):\n",
    "    ID = path[18:21].replace('.','_')\n",
    "    kind = file[18:21].replace('.','_')\n",
    "    print(f'id: {ID}')\n",
    "    print(f'kind: {kind}')\n",
    "    if not os.path.exists(path + file):\n",
    "        print(f\"El archivo '{file}' no existe en la ubicación '{path}'\")\n",
    "        return\n",
    "    num_trajs, confs = leer_file(path + file)\n",
    "    num_trajs_ini, confs_ini = leer_file(path + file[:-4]+'_ini.xyz')\n",
    "    with open(f'{path}0K_{ID}_CH4_cm.out', 'w') as f:\n",
    "        f.write(f'ntraj,x,y,z,x_ini,y_ini,z_ini\\n')\n",
    "        for conf,conf_ini in zip(confs,confs_ini):\n",
    "            Pt, H, C, ntraj = leer_conf(conf)\n",
    "            Pt_ini, H_ini, C_ini, ntraj_ini = leer_conf(conf_ini)\n",
    "            CH4_cm = calcular_CM(C,H)\n",
    "            CH4_cm_ini = calcular_CM(C_ini,H_ini)\n",
    "            f.write(f'{ntraj},{CH4_cm[0]},{CH4_cm[1]},{CH4_cm[2]},{CH4_cm_ini[0]},{CH4_cm_ini[1]},{CH4_cm_ini[2]}\\n')\n",
    "\n",
    "    with open(f'{path}0K_{ID}_dPt.out', 'w') as f:\n",
    "        f.write(f'ntraj,nat,dx,dy,dz\\n')\n",
    "        for conf in confs:\n",
    "            Pt, H, C, ntraj = leer_conf(conf)     \n",
    "            for nat in range(31,52):\n",
    "                nat = str(nat)   \n",
    "                v1 = np.array(Pt[nat])\n",
    "                v2 = np.array(Pt_ref[nat])\n",
    "                d = v1 - v2\n",
    "                f.write(f'{ntraj},{nat},{d[0]},{d[1]},{d[2]}\\n')\n",
    "    return\n",
    "\n",
    "def write_all_50(path,file, name=None):\n",
    "    ID =path[5:6] + '_' + path[18:21].replace('.','_')\n",
    "    kind = file[7:-4]\n",
    "    print(f'id: {ID}')\n",
    "    print(f'kind: {kind}')\n",
    "    if not os.path.exists(path + file):\n",
    "        print(f\"El archivo '{file}' no existe en la ubicación '{path}'\")\n",
    "        return\n",
    "    num_trajs, confs = leer_file(path + file)\n",
    "    num_trajs_ini, confs_ini = leer_file(path + file[:-4]+'_ini.xyz')\n",
    "    with open(f'{path}{ID}_{kind}_CH4_cm.out', 'w') as f:\n",
    "        f.write(f'ntraj,x,y,z,x_ini,y_ini,z_ini\\n')\n",
    "        for conf,conf_ini in zip(confs,confs_ini):\n",
    "            Pt, H, C, ntraj = leer_conf(conf)\n",
    "            Pt_ini, H_ini, C_ini, ntraj_ini = leer_conf(conf_ini)\n",
    "            CH4_cm = calcular_CM(C,H)\n",
    "            CH4_cm_ini = calcular_CM(C_ini,H_ini)\n",
    "            f.write(f'{ntraj},{CH4_cm[0]},{CH4_cm[1]},{CH4_cm[2]},{CH4_cm_ini[0]},{CH4_cm_ini[1]},{CH4_cm_ini[2]}\\n')\n",
    "\n",
    "    with open(f'{path}{ID}_{kind}_dPt.out', 'w') as f:\n",
    "        f.write(f'ntraj,nat,dx,dy,dz\\n')\n",
    "        for conf in confs:\n",
    "            Pt, H, C, ntraj = leer_conf(conf)     \n",
    "            for nat in range(31,52):\n",
    "                nat = str(nat)   \n",
    "                v1 = np.array(Pt[nat])\n",
    "                v2 = np.array(Pt_ref[nat])\n",
    "                d = v1 - v2\n",
    "                f.write(f'{ntraj},{nat},{d[0]},{d[1]},{d[2]}\\n')\n",
    "    return"
   ]
  },
  {
   "cell_type": "code",
   "execution_count": 30,
   "metadata": {},
   "outputs": [
    {
     "data": {
      "text/plain": [
       "'refl'"
      ]
     },
     "execution_count": 30,
     "metadata": {},
     "output_type": "execute_result"
    }
   ],
   "source": [
    "config[7:-4]"
   ]
  },
  {
   "cell_type": "code",
   "execution_count": 45,
   "metadata": {},
   "outputs": [
    {
     "data": {
      "text/plain": [
       "'0K_1_4'"
      ]
     },
     "execution_count": 45,
     "metadata": {},
     "output_type": "execute_result"
    }
   ],
   "source": [
    "path= path0+Ei\n",
    "path[5:6] + 'K_' + path[18:21].replace('.','_')"
   ]
  },
  {
   "cell_type": "code",
   "execution_count": 47,
   "metadata": {},
   "outputs": [
    {
     "name": "stdout",
     "output_type": "stream",
     "text": [
      "id: 0_4\n",
      "kind: \n",
      "El archivo 'config_admol.xyz' no existe en la ubicación 'data/0/1-concat/Ei0.4_outputs/'\n",
      "id: 0_4\n",
      "kind: \n",
      "El archivo 'config_refl.xyz' no existe en la ubicación 'data/0/1-concat/Ei0.4_outputs/'\n",
      "id: 0_4\n",
      "kind: \n",
      "El archivo 'config_stick.xyz' no existe en la ubicación 'data/0/1-concat/Ei0.4_outputs/'\n",
      "id: 0_4\n",
      "kind: xyz\n",
      "El archivo 'config_stickearly.xyz' no existe en la ubicación 'data/0/1-concat/Ei0.4_outputs/'\n",
      "id: 0_4\n",
      "kind: yz\n",
      "El archivo 'config_sticklate.xyz' no existe en la ubicación 'data/0/1-concat/Ei0.4_outputs/'\n",
      "id: 0_6\n",
      "kind: \n"
     ]
    },
    {
     "name": "stdout",
     "output_type": "stream",
     "text": [
      "Hay 5410 trayectorias leidas del archivo data/0/1-concat/Ei0.6_outputs/config_admol.xyz.\n",
      "Hay 5410 trayectorias leidas del archivo data/0/1-concat/Ei0.6_outputs/config_admol_ini.xyz.\n",
      "id: 0_6\n",
      "kind: \n",
      "Hay 3527 trayectorias leidas del archivo data/0/1-concat/Ei0.6_outputs/config_refl.xyz.\n",
      "Hay 3527 trayectorias leidas del archivo data/0/1-concat/Ei0.6_outputs/config_refl_ini.xyz.\n",
      "id: 0_6\n",
      "kind: \n",
      "Hay 52 trayectorias leidas del archivo data/0/1-concat/Ei0.6_outputs/config_stick.xyz.\n",
      "Hay 52 trayectorias leidas del archivo data/0/1-concat/Ei0.6_outputs/config_stick_ini.xyz.\n",
      "id: 0_6\n",
      "kind: xyz\n",
      "El archivo 'config_stickearly.xyz' no existe en la ubicación 'data/0/1-concat/Ei0.6_outputs/'\n",
      "id: 0_6\n",
      "kind: yz\n",
      "Hay 11 trayectorias leidas del archivo data/0/1-concat/Ei0.6_outputs/config_sticklate.xyz.\n",
      "Hay 11 trayectorias leidas del archivo data/0/1-concat/Ei0.6_outputs/config_sticklate_ini.xyz.\n",
      "id: 0_8\n",
      "kind: \n",
      "El archivo 'config_admol.xyz' no existe en la ubicación 'data/0/1-concat/Ei0.8_outputs/'\n",
      "id: 0_8\n",
      "kind: \n",
      "El archivo 'config_refl.xyz' no existe en la ubicación 'data/0/1-concat/Ei0.8_outputs/'\n",
      "id: 0_8\n",
      "kind: \n",
      "El archivo 'config_stick.xyz' no existe en la ubicación 'data/0/1-concat/Ei0.8_outputs/'\n",
      "id: 0_8\n",
      "kind: xyz\n",
      "El archivo 'config_stickearly.xyz' no existe en la ubicación 'data/0/1-concat/Ei0.8_outputs/'\n",
      "id: 0_8\n",
      "kind: yz\n",
      "El archivo 'config_sticklate.xyz' no existe en la ubicación 'data/0/1-concat/Ei0.8_outputs/'\n",
      "id: 1_0\n",
      "kind: \n",
      "Hay 3064 trayectorias leidas del archivo data/0/1-concat/Ei1.0_outputs/config_admol.xyz.\n",
      "Hay 3064 trayectorias leidas del archivo data/0/1-concat/Ei1.0_outputs/config_admol_ini.xyz.\n",
      "id: 1_0\n",
      "kind: \n",
      "Hay 5813 trayectorias leidas del archivo data/0/1-concat/Ei1.0_outputs/config_refl.xyz.\n",
      "Hay 5813 trayectorias leidas del archivo data/0/1-concat/Ei1.0_outputs/config_refl_ini.xyz.\n",
      "id: 1_0\n",
      "kind: \n",
      "Hay 375 trayectorias leidas del archivo data/0/1-concat/Ei1.0_outputs/config_stick.xyz.\n",
      "Hay 375 trayectorias leidas del archivo data/0/1-concat/Ei1.0_outputs/config_stick_ini.xyz.\n",
      "id: 1_0\n",
      "kind: xyz\n",
      "El archivo 'config_stickearly.xyz' no existe en la ubicación 'data/0/1-concat/Ei1.0_outputs/'\n",
      "id: 1_0\n",
      "kind: yz\n",
      "Hay 41 trayectorias leidas del archivo data/0/1-concat/Ei1.0_outputs/config_sticklate.xyz.\n",
      "Hay 41 trayectorias leidas del archivo data/0/1-concat/Ei1.0_outputs/config_sticklate_ini.xyz.\n",
      "id: 1_2\n",
      "kind: \n",
      "El archivo 'config_admol.xyz' no existe en la ubicación 'data/0/1-concat/Ei1.2_outputs/'\n",
      "id: 1_2\n",
      "kind: \n",
      "El archivo 'config_refl.xyz' no existe en la ubicación 'data/0/1-concat/Ei1.2_outputs/'\n",
      "id: 1_2\n",
      "kind: \n",
      "El archivo 'config_stick.xyz' no existe en la ubicación 'data/0/1-concat/Ei1.2_outputs/'\n",
      "id: 1_2\n",
      "kind: xyz\n",
      "El archivo 'config_stickearly.xyz' no existe en la ubicación 'data/0/1-concat/Ei1.2_outputs/'\n",
      "id: 1_2\n",
      "kind: yz\n",
      "El archivo 'config_sticklate.xyz' no existe en la ubicación 'data/0/1-concat/Ei1.2_outputs/'\n",
      "id: 1_4\n",
      "kind: \n",
      "Hay 987 trayectorias leidas del archivo data/0/1-concat/Ei1.4_outputs/config_admol.xyz.\n",
      "Hay 987 trayectorias leidas del archivo data/0/1-concat/Ei1.4_outputs/config_admol_ini.xyz.\n",
      "id: 1_4\n",
      "kind: \n",
      "Hay 6876 trayectorias leidas del archivo data/0/1-concat/Ei1.4_outputs/config_refl.xyz.\n",
      "Hay 6876 trayectorias leidas del archivo data/0/1-concat/Ei1.4_outputs/config_refl_ini.xyz.\n",
      "id: 1_4\n",
      "kind: \n",
      "Hay 1044 trayectorias leidas del archivo data/0/1-concat/Ei1.4_outputs/config_stick.xyz.\n",
      "Hay 1044 trayectorias leidas del archivo data/0/1-concat/Ei1.4_outputs/config_stick_ini.xyz.\n",
      "id: 1_4\n",
      "kind: xyz\n",
      "El archivo 'config_stickearly.xyz' no existe en la ubicación 'data/0/1-concat/Ei1.4_outputs/'\n",
      "id: 1_4\n",
      "kind: yz\n",
      "Hay 93 trayectorias leidas del archivo data/0/1-concat/Ei1.4_outputs/config_sticklate.xyz.\n",
      "Hay 93 trayectorias leidas del archivo data/0/1-concat/Ei1.4_outputs/config_sticklate_ini.xyz.\n"
     ]
    }
   ],
   "source": [
    "for Ei in energias:\n",
    "    for config in conf_files:\n",
    "        write_all(path0+Ei,config)"
   ]
  },
  {
   "cell_type": "code",
   "execution_count": 14,
   "metadata": {},
   "outputs": [],
   "source": [
    "# path300[8:12]\n",
    "# path300[21:24]"
   ]
  },
  {
   "cell_type": "code",
   "execution_count": 48,
   "metadata": {},
   "outputs": [
    {
     "name": "stdout",
     "output_type": "stream",
     "text": [
      "id: 0_0_4\n",
      "kind: admol\n",
      "El archivo 'config_admol.xyz' no existe en la ubicación 'data/0/1-concat/Ei0.4_outputs/'\n",
      "id: 0_0_4\n",
      "kind: refl\n",
      "El archivo 'config_refl.xyz' no existe en la ubicación 'data/0/1-concat/Ei0.4_outputs/'\n",
      "id: 0_0_4\n",
      "kind: stick\n",
      "El archivo 'config_stick.xyz' no existe en la ubicación 'data/0/1-concat/Ei0.4_outputs/'\n",
      "id: 0_0_4\n",
      "kind: stickearly\n",
      "El archivo 'config_stickearly.xyz' no existe en la ubicación 'data/0/1-concat/Ei0.4_outputs/'\n",
      "id: 0_0_4\n",
      "kind: sticklate\n",
      "El archivo 'config_sticklate.xyz' no existe en la ubicación 'data/0/1-concat/Ei0.4_outputs/'\n",
      "id: 0_0_6\n",
      "kind: admol\n"
     ]
    },
    {
     "name": "stdout",
     "output_type": "stream",
     "text": [
      "Hay 5410 trayectorias leidas del archivo data/0/1-concat/Ei0.6_outputs/config_admol.xyz.\n",
      "Hay 5410 trayectorias leidas del archivo data/0/1-concat/Ei0.6_outputs/config_admol_ini.xyz.\n",
      "id: 0_0_6\n",
      "kind: refl\n",
      "Hay 3527 trayectorias leidas del archivo data/0/1-concat/Ei0.6_outputs/config_refl.xyz.\n",
      "Hay 3527 trayectorias leidas del archivo data/0/1-concat/Ei0.6_outputs/config_refl_ini.xyz.\n",
      "id: 0_0_6\n",
      "kind: stick\n",
      "Hay 52 trayectorias leidas del archivo data/0/1-concat/Ei0.6_outputs/config_stick.xyz.\n",
      "Hay 52 trayectorias leidas del archivo data/0/1-concat/Ei0.6_outputs/config_stick_ini.xyz.\n",
      "id: 0_0_6\n",
      "kind: stickearly\n",
      "El archivo 'config_stickearly.xyz' no existe en la ubicación 'data/0/1-concat/Ei0.6_outputs/'\n",
      "id: 0_0_6\n",
      "kind: sticklate\n",
      "Hay 11 trayectorias leidas del archivo data/0/1-concat/Ei0.6_outputs/config_sticklate.xyz.\n",
      "Hay 11 trayectorias leidas del archivo data/0/1-concat/Ei0.6_outputs/config_sticklate_ini.xyz.\n",
      "id: 0_0_8\n",
      "kind: admol\n",
      "El archivo 'config_admol.xyz' no existe en la ubicación 'data/0/1-concat/Ei0.8_outputs/'\n",
      "id: 0_0_8\n",
      "kind: refl\n",
      "El archivo 'config_refl.xyz' no existe en la ubicación 'data/0/1-concat/Ei0.8_outputs/'\n",
      "id: 0_0_8\n",
      "kind: stick\n",
      "El archivo 'config_stick.xyz' no existe en la ubicación 'data/0/1-concat/Ei0.8_outputs/'\n",
      "id: 0_0_8\n",
      "kind: stickearly\n",
      "El archivo 'config_stickearly.xyz' no existe en la ubicación 'data/0/1-concat/Ei0.8_outputs/'\n",
      "id: 0_0_8\n",
      "kind: sticklate\n",
      "El archivo 'config_sticklate.xyz' no existe en la ubicación 'data/0/1-concat/Ei0.8_outputs/'\n",
      "id: 0_1_0\n",
      "kind: admol\n",
      "Hay 3064 trayectorias leidas del archivo data/0/1-concat/Ei1.0_outputs/config_admol.xyz.\n",
      "Hay 3064 trayectorias leidas del archivo data/0/1-concat/Ei1.0_outputs/config_admol_ini.xyz.\n",
      "id: 0_1_0\n",
      "kind: refl\n",
      "Hay 5813 trayectorias leidas del archivo data/0/1-concat/Ei1.0_outputs/config_refl.xyz.\n",
      "Hay 5813 trayectorias leidas del archivo data/0/1-concat/Ei1.0_outputs/config_refl_ini.xyz.\n",
      "id: 0_1_0\n",
      "kind: stick\n",
      "Hay 375 trayectorias leidas del archivo data/0/1-concat/Ei1.0_outputs/config_stick.xyz.\n",
      "Hay 375 trayectorias leidas del archivo data/0/1-concat/Ei1.0_outputs/config_stick_ini.xyz.\n",
      "id: 0_1_0\n",
      "kind: stickearly\n",
      "El archivo 'config_stickearly.xyz' no existe en la ubicación 'data/0/1-concat/Ei1.0_outputs/'\n",
      "id: 0_1_0\n",
      "kind: sticklate\n",
      "Hay 41 trayectorias leidas del archivo data/0/1-concat/Ei1.0_outputs/config_sticklate.xyz.\n",
      "Hay 41 trayectorias leidas del archivo data/0/1-concat/Ei1.0_outputs/config_sticklate_ini.xyz.\n",
      "id: 0_1_2\n",
      "kind: admol\n",
      "El archivo 'config_admol.xyz' no existe en la ubicación 'data/0/1-concat/Ei1.2_outputs/'\n",
      "id: 0_1_2\n",
      "kind: refl\n",
      "El archivo 'config_refl.xyz' no existe en la ubicación 'data/0/1-concat/Ei1.2_outputs/'\n",
      "id: 0_1_2\n",
      "kind: stick\n",
      "El archivo 'config_stick.xyz' no existe en la ubicación 'data/0/1-concat/Ei1.2_outputs/'\n",
      "id: 0_1_2\n",
      "kind: stickearly\n",
      "El archivo 'config_stickearly.xyz' no existe en la ubicación 'data/0/1-concat/Ei1.2_outputs/'\n",
      "id: 0_1_2\n",
      "kind: sticklate\n",
      "El archivo 'config_sticklate.xyz' no existe en la ubicación 'data/0/1-concat/Ei1.2_outputs/'\n",
      "id: 0_1_4\n",
      "kind: admol\n",
      "Hay 987 trayectorias leidas del archivo data/0/1-concat/Ei1.4_outputs/config_admol.xyz.\n",
      "Hay 987 trayectorias leidas del archivo data/0/1-concat/Ei1.4_outputs/config_admol_ini.xyz.\n",
      "id: 0_1_4\n",
      "kind: refl\n",
      "Hay 6876 trayectorias leidas del archivo data/0/1-concat/Ei1.4_outputs/config_refl.xyz.\n",
      "Hay 6876 trayectorias leidas del archivo data/0/1-concat/Ei1.4_outputs/config_refl_ini.xyz.\n",
      "id: 0_1_4\n",
      "kind: stick\n",
      "Hay 1044 trayectorias leidas del archivo data/0/1-concat/Ei1.4_outputs/config_stick.xyz.\n",
      "Hay 1044 trayectorias leidas del archivo data/0/1-concat/Ei1.4_outputs/config_stick_ini.xyz.\n",
      "id: 0_1_4\n",
      "kind: stickearly\n",
      "El archivo 'config_stickearly.xyz' no existe en la ubicación 'data/0/1-concat/Ei1.4_outputs/'\n",
      "id: 0_1_4\n",
      "kind: sticklate\n",
      "Hay 93 trayectorias leidas del archivo data/0/1-concat/Ei1.4_outputs/config_sticklate.xyz.\n",
      "Hay 93 trayectorias leidas del archivo data/0/1-concat/Ei1.4_outputs/config_sticklate_ini.xyz.\n"
     ]
    }
   ],
   "source": [
    "for Ei in energias:\n",
    "    for config in conf_files:\n",
    "        write_all_50(path0+Ei,config)"
   ]
  },
  {
   "cell_type": "code",
   "execution_count": null,
   "metadata": {},
   "outputs": [],
   "source": [
    "# for Ei in energias:\n",
    "#     for config in conf_files:\n",
    "#         write_all(path550+Ei,config)"
   ]
  },
  {
   "cell_type": "code",
   "execution_count": null,
   "metadata": {},
   "outputs": [],
   "source": []
  }
 ],
 "metadata": {
  "kernelspec": {
   "display_name": "enviroment1",
   "language": "python",
   "name": "python3"
  },
  "language_info": {
   "codemirror_mode": {
    "name": "ipython",
    "version": 3
   },
   "file_extension": ".py",
   "mimetype": "text/x-python",
   "name": "python",
   "nbconvert_exporter": "python",
   "pygments_lexer": "ipython3",
   "version": "3.10.10"
  }
 },
 "nbformat": 4,
 "nbformat_minor": 2
}
